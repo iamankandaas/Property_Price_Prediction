{
 "cells": [
  {
   "cell_type": "code",
   "execution_count": 1,
   "metadata": {},
   "outputs": [
    {
     "name": "stdout",
     "output_type": "stream",
     "text": [
      "Simple Linear Regression:\n",
      "RMSE: 0.17362611373591147\n",
      "R² Score: 0.45885918903846656\n",
      "\n",
      "Multiple Linear Regression:\n",
      "RMSE: 0.016973398647176022\n",
      "R² Score: 0.9948284846046926\n"
     ]
    }
   ],
   "source": [
    "# Importing necessary libraries\n",
    "import pandas as pd\n",
    "import numpy as np\n",
    "from sklearn.model_selection import train_test_split\n",
    "from sklearn.linear_model import LinearRegression\n",
    "from sklearn.metrics import mean_squared_error, r2_score\n",
    "from sklearn.preprocessing import MinMaxScaler\n",
    "\n",
    "# Load the dataset\n",
    "df = pd.read_csv(\"D:\\IITG\\other courses\\AIML project1\\Data_file - data_file.csv\")\n",
    "\n",
    "# Preprocessing\n",
    "df['total_bedrooms'].fillna(df['total_bedrooms'].median(), inplace=True)\n",
    "df['rooms_per_household'] = df['total_rooms'] / df['households']\n",
    "df['bedrooms_per_room'] = df['total_bedrooms'] / df['total_rooms']\n",
    "df['population_per_household'] = df['population'] / df['households']\n",
    "df.drop(columns=['total_rooms', 'total_bedrooms', 'population', 'households'], inplace=True)\n",
    "df = pd.get_dummies(df, columns=['ocean_proximity'], drop_first=True)\n",
    "\n",
    "# Normalize numerical features\n",
    "scaler = MinMaxScaler()\n",
    "numerical_features = ['longitude', 'latitude', 'housing_median_age', 'median_income', 'median_house_value']\n",
    "df[numerical_features] = scaler.fit_transform(df[numerical_features])\n",
    "\n",
    "# Add polynomial features\n",
    "df['median_income_squared'] = df['median_income'] ** 2\n",
    "df['median_income_cubed'] = df['median_income'] ** 3\n",
    "\n",
    "# Add interaction terms\n",
    "df['income_age_interaction'] = df['median_income'] * df['housing_median_age']\n",
    "\n",
    "# Log transformation of skewed features\n",
    "df['log_median_income'] = np.log1p(df['median_income'])\n",
    "df['log_median_house_value'] = np.log1p(df['median_house_value'])\n",
    "\n",
    "# Scale new features\n",
    "df[['median_income_squared', 'median_income_cubed', 'income_age_interaction']] = scaler.fit_transform(\n",
    "    df[['median_income_squared', 'median_income_cubed', 'income_age_interaction']]\n",
    ")\n",
    "\n",
    "# Regression Models\n",
    "# Simple Linear Regression\n",
    "X_simple = df[['median_income']]\n",
    "y = df['median_house_value']\n",
    "X_train_simple, X_test_simple, y_train, y_test = train_test_split(X_simple, y, test_size=0.2, random_state=42)\n",
    "\n",
    "model_simple = LinearRegression()\n",
    "model_simple.fit(X_train_simple, y_train)\n",
    "y_pred_simple = model_simple.predict(X_test_simple)\n",
    "rmse_simple = np.sqrt(mean_squared_error(y_test, y_pred_simple))\n",
    "r2_simple = r2_score(y_test, y_pred_simple)\n",
    "\n",
    "# Multiple Linear Regression\n",
    "X_multiple = df.drop(columns=['median_house_value'])\n",
    "X_train_multiple, X_test_multiple, y_train, y_test = train_test_split(X_multiple, y, test_size=0.2, random_state=42)\n",
    "\n",
    "model_multiple = LinearRegression()\n",
    "model_multiple.fit(X_train_multiple, y_train)\n",
    "y_pred_multiple = model_multiple.predict(X_test_multiple)\n",
    "rmse_multiple = np.sqrt(mean_squared_error(y_test, y_pred_multiple))\n",
    "r2_multiple = r2_score(y_test, y_pred_multiple)\n",
    "\n",
    "# Print evaluation metrics\n",
    "print(\"Simple Linear Regression:\")\n",
    "print(f\"RMSE: {rmse_simple}\")\n",
    "print(f\"R² Score: {r2_simple}\\n\")\n",
    "\n",
    "print(\"Multiple Linear Regression:\")\n",
    "print(f\"RMSE: {rmse_multiple}\")\n",
    "print(f\"R² Score: {r2_multiple}\")\n"
   ]
  }
 ],
 "metadata": {
  "kernelspec": {
   "display_name": "base",
   "language": "python",
   "name": "python3"
  },
  "language_info": {
   "codemirror_mode": {
    "name": "ipython",
    "version": 3
   },
   "file_extension": ".py",
   "mimetype": "text/x-python",
   "name": "python",
   "nbconvert_exporter": "python",
   "pygments_lexer": "ipython3",
   "version": "3.11.5"
  }
 },
 "nbformat": 4,
 "nbformat_minor": 2
}
